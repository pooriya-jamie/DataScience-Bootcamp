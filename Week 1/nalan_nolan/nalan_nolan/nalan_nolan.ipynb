{
  "cells": [
    {
      "attachments": {},
      "cell_type": "markdown",
      "metadata": {},
      "source": [
        "<h1 align=center style=\"line-height:200%;font-family:vazir;color:#0099cc\">\n",
        "<font face=\"vazir\" color=\"#0099cc\">\n",
        "نولان نالان\n",
        "</font>\n",
        "</h1>\n",
        "\n",
        "<p dir=rtl style=\"direction: rtl;text-align: justify;line-height:200%;font-family:vazir;font-size:medium\">\n",
        "<font face=\"vazir\" size=3>\n",
        "همان‌طور که احتمالاً در جریان هستید اخیراً دو فیلم <a href=\"https://en.wikipedia.org/wiki/Barbie_(film)\">باربی</a> و <a href=\"https://de.wikipedia.org/wiki/Oppenheimer_(2023)\">اپنهایمر</a> به  روی پرده رفته‌اند، ولی برخلاف انتظار آقای <a href=\"https://en.wikipedia.org/wiki/Christopher_Nolan\">کریستوفر نولان</a>، باربی در حال فروش بسیار بیشتر نسبت به اپنهایمر است و نولان بسیار نالان شده است که مردم به اندازه‌ی باربی به اثر هنری‌ای که خلق کرده اهمیت نمی‌دهند.\n",
        "به همین منظور ما قصد داریم در این سوال به کارهای نولان توجه کنیم تا شاید از کمبود توجهی که متوجه نولان شده جلوگیری کنیم.\n",
        "</font>\n",
        "</p>\n",
        "\n",
        "<center>\n",
        "<div style=\"max-width:600px\">\n",
        "<img src=\"img.jpg\" >\n",
        "</div>\n",
        "</center>"
      ]
    },
    {
      "attachments": {},
      "cell_type": "markdown",
      "metadata": {
        "id": "X4lyZagkmiHI"
      },
      "source": [
        "<h2 align=right dir=rtl style=\"line-height:200%;font-family:vazir;color:#0099cc\">\n",
        "<font face=\"vazir\" color=\"#0099cc\">\n",
        "چگونه به شخص مورد نظر توجه کنیم؟!\n",
        "</font>\n",
        "</h2>\n",
        "\n",
        "<p dir=rtl style=\"direction: rtl;text-align: justify;line-height:200%;font-family:vazir;font-size:medium\">\n",
        "<font face=\"vazir\" size=3>\n",
        "خُب، برای آن‌که به آثار آقای نولان توجه کنیم قصد داریم یک سری اطلاعات از صفحه‌ی ویکی‌پدیای ایشان برداشت کنیم. این کار را به وسیله‌ی کتابخانه‌ی <code>BeautifulSoup</code> در پایتون انجام خواهیم داد.\n",
        "</font>\n",
        "</p>\n"
      ]
    },
    {
      "cell_type": "code",
      "execution_count": 8,
      "metadata": {
        "id": "FFY4mD7Ljka5"
      },
      "outputs": [],
      "source": [
        "import requests\n",
        "from bs4 import BeautifulSoup\n",
        "import re\n"
      ]
    },
    {
      "cell_type": "code",
      "execution_count": 9,
      "metadata": {
        "id": "RaA0zPIEndRO"
      },
      "outputs": [],
      "source": [
        "URL = \"https://en.wikipedia.org/wiki/Christopher_Nolan_filmography\"\n",
        "page = requests.get(URL)\n",
        "\n",
        "soup = BeautifulSoup(page.content, \"html.parser\")"
      ]
    },
    {
      "attachments": {},
      "cell_type": "markdown",
      "metadata": {},
      "source": [
        "<h2 align=right style=\"line-height:200%;font-family:vazir;color:#0099cc\">\n",
        "<font face=\"vazir\" color=\"#0099cc\">\n",
        "نام فیلم‌ها\n",
        "</font>\n",
        "</h2>\n",
        "\n",
        "<p dir=rtl style=\"direction: rtl;text-align: justify;line-height:200%;font-family:vazir;font-size:medium\">\n",
        "<font face=\"vazir\" size=3>\n",
        "برای ‌آن‌که بتوانیم به فیلم‌هایی که آقای نولان <b>کارگردانی</b> کرده‌اند توجه کنیم، ابتدا باید آن‌ها را پیدا کنیم. پس در این مرحله کدی بنویسید که نام فیلم‌ها و لینک ویکی‌پدیای این فیلم‌ها را از صفحه‌ای که در بالا داده شد استخراج کند.\n",
        "<br>\n",
        "<b style=\"color:purple\">توجه:</b>\n",
        "تنها جدول اول مورد انتظار ماست و نه جدول‌هایی همچون فیلم مستند یا کوتاه.\n",
        "</font>\n",
        "</p>"
      ]
    },
    {
      "cell_type": "code",
      "execution_count": 10,
      "metadata": {
        "colab": {
          "base_uri": "https://localhost:8080/"
        },
        "id": "0rwRsx_HpNDA",
        "outputId": "fd68a97e-145a-4d24-86ae-1b8a65092dcc"
      },
      "outputs": [
        {
          "name": "stdout",
          "output_type": "stream",
          "text": [
            "Movie: Following\n",
            "Link: https://en.wikipedia.org/wiki/Following\n",
            "\n",
            "Movie: Memento\n",
            "Link: https://en.wikipedia.org/wiki/Memento_(film)\n",
            "\n",
            "Movie: Insomnia\n",
            "Link: https://en.wikipedia.org/wiki/Insomnia_(2002_film)\n",
            "\n",
            "Movie: Batman Begins\n",
            "Link: https://en.wikipedia.org/wiki/Batman_Begins\n",
            "\n",
            "Movie: The Prestige\n",
            "Link: https://en.wikipedia.org/wiki/The_Prestige_(film)\n",
            "\n",
            "Movie: The Dark Knight\n",
            "Link: https://en.wikipedia.org/wiki/The_Dark_Knight\n",
            "\n",
            "Movie: Inception\n",
            "Link: https://en.wikipedia.org/wiki/Inception\n",
            "\n",
            "Movie: The Dark Knight Rises\n",
            "Link: https://en.wikipedia.org/wiki/The_Dark_Knight_Rises\n",
            "\n",
            "Movie: Man of Steel\n",
            "Link: https://en.wikipedia.org/wiki/Man_of_Steel_(film)\n",
            "\n",
            "Movie: Interstellar\n",
            "Link: https://en.wikipedia.org/wiki/Interstellar_(film)\n",
            "\n",
            "Movie: Dunkirk\n",
            "Link: https://en.wikipedia.org/wiki/Dunkirk_(2017_film)\n",
            "\n",
            "Movie: Tenet\n",
            "Link: https://en.wikipedia.org/wiki/Tenet_(film)\n",
            "\n",
            "Movie: Oppenheimer\n",
            "Link: https://en.wikipedia.org/wiki/Oppenheimer_(film)\n",
            "\n"
          ]
        }
      ],
      "source": [
        "\n",
        "for row in rows[1:]:  \n",
        "    cells = row.find_all(\"td\")\n",
        "    if len(cells) >= 3:\n",
        "        movie_name_cell = cells[0]\n",
        "        movie_link = movie_name_cell.find(\"a\")\n",
        "        if movie_link is not None:\n",
        "            movie_name = movie_name_cell.text.strip()\n",
        "            movie_link = movie_link[\"href\"]\n",
        "            print(f\"Movie: {movie_name}\")\n",
        "            print(f\"Link: https://en.wikipedia.org{movie_link}\")\n",
        "            print()"
      ]
    },
    {
      "attachments": {},
      "cell_type": "markdown",
      "metadata": {
        "id": "u9anuJ7A2rno"
      },
      "source": [
        "<h2 align=right style=\"line-height:200%;font-family:vazir;color:#0099cc\">\n",
        "<font face=\"vazir\" color=\"#0099cc\">\n",
        "زمان مورد نیاز\n",
        "</font>\n",
        "</h2>\n",
        "\n",
        "<p dir=rtl style=\"direction: rtl;text-align: justify;line-height:200%;font-family:vazir;font-size:medium\">\n",
        "<font face=\"vazir\" size=3>\n",
        "اکنون برای توجه بیشتر به نولان می‌خواهیم بنشینیم و همه‌ی فیلم‌هایش را پشت هم تماشا کنیم. برای این کار باید بفهمیم که هر کدام از این فیلم‌ها به چقدر زمان  برای دیده‌شدن نیاز دارند. این اطلاعات را می‌توانیم از لینک های استخراج‌شده در قسمت قبل به دست آوریم.\n",
        "\n",
        "</font>\n",
        "</p>\n",
        "\n",
        "<p dir=rtl style=\"direction: rtl;text-align: justify;line-height:200%;font-family:vazir;font-size:medium\">\n",
        "<font face=\"vazir\" size=3>\n",
        "<b style=\"color:green\">راهنمایی:</b> برای هر فیلم در صفحه‌ی ویکی‌پدیای مربوطه‌اش می‌توانیم در قسمت اطلاعات اولیه‌ی آن، زمان فیلم را مشاهده کنیم که فرمت آن <b>دقیقه</b> هست و ما به همان فرمت نیاز داریم.\n",
        "\n",
        "</font>\n",
        "</p>"
      ]
    },
    {
      "cell_type": "code",
      "execution_count": 11,
      "metadata": {},
      "outputs": [],
      "source": [
        "movies_names = []\n",
        "movies_links = []\n",
        "movies_durations = []"
      ]
    },
    {
      "cell_type": "code",
      "execution_count": 12,
      "metadata": {
        "colab": {
          "base_uri": "https://localhost:8080/"
        },
        "id": "ditYxItC4ArQ",
        "outputId": "c1168ec7-ab5a-4c62-ee30-40ecbdc2df80"
      },
      "outputs": [],
      "source": [
        "table = soup.find(\"table\", class_=\"wikitable\")\n",
        "\n",
        "rows = table.find_all(\"tr\")\n",
        "\n",
        "\n",
        "for row in rows[1:]:  # Exclude the header row\n",
        "    cells = row.find_all(\"td\")\n",
        "    if len(cells) >= 3:\n",
        "        movie_name_cell = cells[0]\n",
        "        movie_link = movie_name_cell.find(\"a\")\n",
        "        if movie_link is not None:\n",
        "\n",
        "            movie_name = movie_name_cell.text.strip()\n",
        "            movies_names.append(movie_name)\n",
        "\n",
        "            movie_link = \"https://en.wikipedia.org\" + movie_link[\"href\"]\n",
        "            movies_links.append(movie_link)\n",
        "\n",
        "            movie_response = requests.get(movie_link)\n",
        "            \n",
        "            movie_soup = BeautifulSoup(movie_response.content, \"html.parser\")\n",
        "            \n",
        "            infobox = movie_soup.find(\"table\", class_=\"infobox vevent\")\n",
        "            \n",
        "            infobox_rows = infobox.find_all(\"tr\")\n",
        "                                \n",
        "\n",
        "            for infobox_row in infobox_rows:\n",
        "                header = infobox_row.find(\"th\")\n",
        "                if header is not None and header.text.strip() == \"Running time\":\n",
        "                    running_time_cell = infobox_row.find(\"td\")\n",
        "                    running_time_text = running_time_cell.text.strip()\n",
        "                    running_time = re.findall(r\"\\d+\", running_time_text)  # Extract numeric value using regex\n",
        "                    if running_time:\n",
        "                        running_time = running_time[0]\n",
        "                    else:\n",
        "                        running_time = \"Unknown\"\n",
        "                    movies_durations.append(running_time)\n",
        "                    break"
      ]
    },
    {
      "attachments": {},
      "cell_type": "markdown",
      "metadata": {
        "id": "7UqYbM-4U7gT"
      },
      "source": [
        "<h2 align=right style=\"line-height:200%;font-family:vazir;color:#0099cc\">\n",
        "<font face=\"vazir\" color=\"#0099cc\">\n",
        "ساخت جواب\n",
        "</font>\n",
        "</h2>\n",
        "\n",
        "<p dir=rtl style=\"direction: rtl;text-align: justify;line-height:200%;font-family:vazir;font-size:medium\">\n",
        "<font face=\"vazir\" size=3>\n",
        "سه آرایه‌ی زیر را تشکیل دهید تا با کمک قطعه‌کد زیر بتوانید پاسخ خود را با فرمت خواسته‌شده برای سوال تولید کنید.\n",
        "</font>\n",
        "</p>\n",
        "\n",
        "<center>\n",
        "<div dir=rtl style=\"direction: rtl;line-height:200%;font-family:vazir;font-size:medium\">\n",
        "<font face=\"vazir\" size=3>\n",
        "    \n",
        "|متغیر|نوع|توضیحات|\n",
        "|:------:|:---:|:---:|\n",
        "|`movies_names`|list of srting|شامل نام فیلم‌ها به‌صورت رشته‌ی متنی با همان‌ فرمتی که در سایت ویکی‌پدیا آمده|\n",
        "|`movies_links`|list of srting|شامل لینک مطلق صفحه‌های مربوطه به فیلم‌ها به شکل نمونه‌فرمت داده‌شده|\n",
        "|`movies_durations`|list of int|شامل زمان فیلم‌ها به‌صورت داد‌ه‌ی عددی|\n",
        "\n",
        "</font>\n",
        "</div>\n",
        "</center>\n",
        " "
      ]
    },
    {
      "cell_type": "code",
      "execution_count": 13,
      "metadata": {
        "colab": {
          "base_uri": "https://localhost:8080/",
          "height": 457
        },
        "id": "UgTS7gNFSDYu",
        "outputId": "e9ad0597-9ae2-480b-d101-c7fe81770029"
      },
      "outputs": [
        {
          "data": {
            "text/html": [
              "<div>\n",
              "<style scoped>\n",
              "    .dataframe tbody tr th:only-of-type {\n",
              "        vertical-align: middle;\n",
              "    }\n",
              "\n",
              "    .dataframe tbody tr th {\n",
              "        vertical-align: top;\n",
              "    }\n",
              "\n",
              "    .dataframe thead th {\n",
              "        text-align: right;\n",
              "    }\n",
              "</style>\n",
              "<table border=\"1\" class=\"dataframe\">\n",
              "  <thead>\n",
              "    <tr style=\"text-align: right;\">\n",
              "      <th></th>\n",
              "      <th>Name</th>\n",
              "      <th>Link</th>\n",
              "      <th>Duration</th>\n",
              "    </tr>\n",
              "  </thead>\n",
              "  <tbody>\n",
              "    <tr>\n",
              "      <th>0</th>\n",
              "      <td>Following</td>\n",
              "      <td>https://en.wikipedia.org/wiki/Following</td>\n",
              "      <td>70</td>\n",
              "    </tr>\n",
              "    <tr>\n",
              "      <th>1</th>\n",
              "      <td>Memento</td>\n",
              "      <td>https://en.wikipedia.org/wiki/Memento_(film)</td>\n",
              "      <td>113</td>\n",
              "    </tr>\n",
              "    <tr>\n",
              "      <th>2</th>\n",
              "      <td>Insomnia</td>\n",
              "      <td>https://en.wikipedia.org/wiki/Insomnia_(2002_f...</td>\n",
              "      <td>118</td>\n",
              "    </tr>\n",
              "    <tr>\n",
              "      <th>3</th>\n",
              "      <td>Batman Begins</td>\n",
              "      <td>https://en.wikipedia.org/wiki/Batman_Begins</td>\n",
              "      <td>140</td>\n",
              "    </tr>\n",
              "    <tr>\n",
              "      <th>4</th>\n",
              "      <td>The Prestige</td>\n",
              "      <td>https://en.wikipedia.org/wiki/The_Prestige_(film)</td>\n",
              "      <td>130</td>\n",
              "    </tr>\n",
              "    <tr>\n",
              "      <th>5</th>\n",
              "      <td>The Dark Knight</td>\n",
              "      <td>https://en.wikipedia.org/wiki/The_Dark_Knight</td>\n",
              "      <td>152</td>\n",
              "    </tr>\n",
              "    <tr>\n",
              "      <th>6</th>\n",
              "      <td>Inception</td>\n",
              "      <td>https://en.wikipedia.org/wiki/Inception</td>\n",
              "      <td>148</td>\n",
              "    </tr>\n",
              "    <tr>\n",
              "      <th>7</th>\n",
              "      <td>The Dark Knight Rises</td>\n",
              "      <td>https://en.wikipedia.org/wiki/The_Dark_Knight_...</td>\n",
              "      <td>165</td>\n",
              "    </tr>\n",
              "    <tr>\n",
              "      <th>8</th>\n",
              "      <td>Man of Steel</td>\n",
              "      <td>https://en.wikipedia.org/wiki/Man_of_Steel_(film)</td>\n",
              "      <td>143</td>\n",
              "    </tr>\n",
              "    <tr>\n",
              "      <th>9</th>\n",
              "      <td>Interstellar</td>\n",
              "      <td>https://en.wikipedia.org/wiki/Interstellar_(film)</td>\n",
              "      <td>169</td>\n",
              "    </tr>\n",
              "    <tr>\n",
              "      <th>10</th>\n",
              "      <td>Dunkirk</td>\n",
              "      <td>https://en.wikipedia.org/wiki/Dunkirk_(2017_film)</td>\n",
              "      <td>106</td>\n",
              "    </tr>\n",
              "    <tr>\n",
              "      <th>11</th>\n",
              "      <td>Tenet</td>\n",
              "      <td>https://en.wikipedia.org/wiki/Tenet_(film)</td>\n",
              "      <td>150</td>\n",
              "    </tr>\n",
              "    <tr>\n",
              "      <th>12</th>\n",
              "      <td>Oppenheimer</td>\n",
              "      <td>https://en.wikipedia.org/wiki/Oppenheimer_(film)</td>\n",
              "      <td>180</td>\n",
              "    </tr>\n",
              "  </tbody>\n",
              "</table>\n",
              "</div>"
            ],
            "text/plain": [
              "                     Name                                               Link  \\\n",
              "0               Following            https://en.wikipedia.org/wiki/Following   \n",
              "1                 Memento       https://en.wikipedia.org/wiki/Memento_(film)   \n",
              "2                Insomnia  https://en.wikipedia.org/wiki/Insomnia_(2002_f...   \n",
              "3           Batman Begins        https://en.wikipedia.org/wiki/Batman_Begins   \n",
              "4            The Prestige  https://en.wikipedia.org/wiki/The_Prestige_(film)   \n",
              "5         The Dark Knight      https://en.wikipedia.org/wiki/The_Dark_Knight   \n",
              "6               Inception            https://en.wikipedia.org/wiki/Inception   \n",
              "7   The Dark Knight Rises  https://en.wikipedia.org/wiki/The_Dark_Knight_...   \n",
              "8            Man of Steel  https://en.wikipedia.org/wiki/Man_of_Steel_(film)   \n",
              "9            Interstellar  https://en.wikipedia.org/wiki/Interstellar_(film)   \n",
              "10                Dunkirk  https://en.wikipedia.org/wiki/Dunkirk_(2017_film)   \n",
              "11                  Tenet         https://en.wikipedia.org/wiki/Tenet_(film)   \n",
              "12            Oppenheimer   https://en.wikipedia.org/wiki/Oppenheimer_(film)   \n",
              "\n",
              "   Duration  \n",
              "0        70  \n",
              "1       113  \n",
              "2       118  \n",
              "3       140  \n",
              "4       130  \n",
              "5       152  \n",
              "6       148  \n",
              "7       165  \n",
              "8       143  \n",
              "9       169  \n",
              "10      106  \n",
              "11      150  \n",
              "12      180  "
            ]
          },
          "execution_count": 13,
          "metadata": {},
          "output_type": "execute_result"
        }
      ],
      "source": [
        "import pandas as pd\n",
        "\n",
        "results = {\n",
        "  \"Name\": movies_names,\n",
        "  \"Link\": movies_links,\n",
        "  \"Duration\": movies_durations\n",
        "}\n",
        "\n",
        "df = pd.DataFrame(results)\n",
        "df.to_csv('Nolan.csv', index=False)\n",
        "df"
      ]
    },
    {
      "attachments": {},
      "cell_type": "markdown",
      "metadata": {},
      "source": [
        "\n",
        "<p dir=rtl style=\"direction: rtl;text-align: justify;line-height:200%;font-family:vazir;font-size:medium\">\n",
        "<font face=\"vazir\" size=3>\n",
        "<b style=\"color:green\">راهنمایی:</b> چند ردیف اول دیتافریم شما باید شبیه به تصویر زیر باشد:\n",
        "\n",
        "</font>\n",
        "</p>\n",
        "\n",
        "\n",
        "<center>\n",
        "<div style=\"max-width:512px\">\n",
        "<img src=\"sample.jpg\" >\n",
        "</div>\n",
        "</center>"
      ]
    },
    {
      "cell_type": "markdown",
      "metadata": {},
      "source": [
        "<h2 align=right style=\"line-height:200%;font-family:vazir;color:#0099cc\">\n",
        "<font face=\"vazir\" color=\"#0099cc\">\n",
        "<b>سلول جواب‌ساز</b>\n",
        "</font>\n",
        "</h2>\n",
        "\n",
        "\n",
        "<p dir=rtl style=\"direction: rtl; text-align: justify; line-height:200%; font-family:vazir; font-size:medium\">\n",
        "<font face=\"vazir\" size=3>\n",
        "    برای ساخته‌شدن فایل <code>result.zip</code> سلول زیر را اجرا کنید. توجه داشته باشید که پیش از اجرای سلول زیر تغییرات اعمال شده در نت‌بوک را ذخیره کرده باشید (<code>ctrl+s</code>) تا در صورت نیاز به پشتیبانی امکان بررسی کد شما وجود داشته باشد.\n",
        "</font>\n",
        "</p>"
      ]
    },
    {
      "cell_type": "code",
      "execution_count": 14,
      "metadata": {},
      "outputs": [
        {
          "name": "stdout",
          "output_type": "stream",
          "text": [
            "File Paths:\n",
            "['nalan_nolan.ipynb', 'Nolan.csv']\n"
          ]
        }
      ],
      "source": [
        "import zlib\n",
        "import zipfile\n",
        "\n",
        "def compress(file_names):\n",
        "    print(\"File Paths:\")\n",
        "    print(file_names)\n",
        "    compression = zipfile.ZIP_DEFLATED\n",
        "    with zipfile.ZipFile(\"result.zip\", mode=\"w\") as zf:\n",
        "        for file_name in file_names:\n",
        "            zf.write('./' + file_name, file_name, compress_type=compression)\n",
        "\n",
        "file_names = [\"nalan_nolan.ipynb\", \"Nolan.csv\"]\n",
        "\n",
        "compress(file_names)"
      ]
    }
  ],
  "metadata": {
    "colab": {
      "provenance": []
    },
    "kernelspec": {
      "display_name": "Python 3",
      "language": "python",
      "name": "python3"
    },
    "language_info": {
      "codemirror_mode": {
        "name": "ipython",
        "version": 3
      },
      "file_extension": ".py",
      "mimetype": "text/x-python",
      "name": "python",
      "nbconvert_exporter": "python",
      "pygments_lexer": "ipython3",
      "version": "3.8.0"
    },
    "vscode": {
      "interpreter": {
        "hash": "44e7e1b8fa2096bd5707ed7fd18b1724a2db25f4c565a7673f8b6e7bfc49d25d"
      }
    }
  },
  "nbformat": 4,
  "nbformat_minor": 0
}
