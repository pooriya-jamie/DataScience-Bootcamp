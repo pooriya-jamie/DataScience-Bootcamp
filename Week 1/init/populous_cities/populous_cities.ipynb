{
 "cells": [
  {
   "attachments": {},
   "cell_type": "markdown",
   "metadata": {},
   "source": [
    "<h1 align=center style=\"line-height:200%;font-family:vazir;color:#0099cc\">\n",
    "<font face=\"vazir\" color=\"#0099cc\">\n",
    " شهر‌های پرجمعیت\n",
    "</font>\n",
    "</h1>\n",
    "\n",
    "<p dir=rtl style=\"direction: rtl;text-align: justify;line-height:200%;font-family:vazir;font-size:medium\">\n",
    "<font face=\"vazir\" size=3>\n",
    "در این تمرین با اطلاعات بیش از ۴۰هزار شهر در قالب یک دیتافریم مواجه می‌شوید و با هدف تمرین کتابخانه‌های <code>pandas</code> و <code>numpy</code> باید تغییراتی روی این دیتافریم ایجاد کنید.   \n",
    "</font>\n",
    "</p>"
   ]
  },
  {
   "cell_type": "code",
   "execution_count": 1,
   "metadata": {},
   "outputs": [],
   "source": [
    "import numpy as np\n",
    "import pandas as pd\n",
    "import math\n"
   ]
  },
  {
   "attachments": {},
   "cell_type": "markdown",
   "metadata": {},
   "source": [
    "<h2 align=right style=\"line-height:200%;font-family:vazir;color:#0099cc\">\n",
    "<font face=\"vazir\" color=\"#0099cc\">\n",
    "مجموعه داده\n",
    "</font>\n",
    "</h2>\n",
    "\n",
    "<p dir=rtl style=\"direction: rtl;text-align: justify;line-height:200%;font-family:vazir;font-size:medium\">\n",
    "<font face=\"vazir\" size=3>\n",
    "داده‌ها را از فایل اکسل <code>worldcities.xlsx</code> که در پوشه تمرین قرار دارد بخوانید و در متغیر \n",
    "<code>df</code>\n",
    " ذخیره کنید.\n",
    "\n",
    "</font>\n",
    "</p>"
   ]
  },
  {
   "cell_type": "code",
   "execution_count": 2,
   "metadata": {},
   "outputs": [],
   "source": [
    "# load data\n",
    "df = pd.read_excel(\"F:\\Desktop\\DATA SCIENCE BOOTCAMP\\init\\populous_cities\\worldcities.xlsx\")\n",
    "df = pd.DataFrame(df)"
   ]
  },
  {
   "attachments": {},
   "cell_type": "markdown",
   "metadata": {},
   "source": [
    "<h2 align=right style=\"line-height:200%;font-family:vazir;color:#0099cc\">\n",
    "<font face=\"vazir\" color=\"#0099cc\">\n",
    "حذف و نام‌گذاری ستون‌ها\n",
    "</font>\n",
    "</h2>\n",
    "\n",
    "<p dir=rtl style=\"direction: rtl;text-align: justify;line-height:200%;font-family:vazir;font-size:medium\">\n",
    "<font face=\"vazir\" size=3>\n",
    "ستون‌های\n",
    "<code>id</code>،\n",
    "<code>‌capital</code>،\n",
    "<code>ville_ascii</code> \n",
    "و \n",
    "<code>admin_nom</code>\n",
    " را از دیتافریم حذف نمایید.\n",
    "سپس نام ستون‌های \n",
    "<code>ville</code> \n",
    "و \n",
    "<code>pays</code>\n",
    " که به زبان فرانسوی نامگذاری شده‌اند را به ترتیب به \n",
    "<code>city</code> \n",
    "و \n",
    "<code>country</code>\n",
    "تغییر دهید.\n",
    "</font>\n",
    "</p>"
   ]
  },
  {
   "cell_type": "code",
   "execution_count": 3,
   "metadata": {},
   "outputs": [],
   "source": [
    "# drop and rename\n",
    "df = df.drop(['ville_ascii', 'id', 'capital', 'admin_nom'], axis=1)\n",
    "df.rename(columns={'ville': 'city'}, inplace=True)\n",
    "df.rename(columns={'pays': 'country'}, inplace=True)"
   ]
  },
  {
   "attachments": {},
   "cell_type": "markdown",
   "metadata": {},
   "source": [
    "<h2 align=right style=\"line-height:200%;font-family:vazir;color:#0099cc\">\n",
    "<font face=\"vazir\" color=\"#0099cc\">\n",
    "فیلتر داده\n",
    "</font>\n",
    "</h2>\n",
    "\n",
    "<p dir=rtl style=\"direction: rtl;text-align: justify;line-height:200%;font-family:vazir;font-size:medium\">\n",
    "<font face=\"vazir\" size=3>\n",
    "شهر‌های با جمعیت کمتر از ۱ میلیون نفر  را از دیتافریم حذف کرده (شهر‌های با جمعیت دقیقا ۱ میلیون نفر در دیتافریم بمانند) و سپس نوع داده‌های ستون \n",
    "<code>population</code>\n",
    " را از \n",
    " <code>float</code>\n",
    "  به\n",
    "  <code>int32</code>\n",
    "   تبدیل نمایید.\n",
    "</font>\n",
    "</p>"
   ]
  },
  {
   "cell_type": "code",
   "execution_count": 7,
   "metadata": {},
   "outputs": [],
   "source": [
    "# filter data\n",
    "df = df[df['population'] >= 1000000]\n"
   ]
  },
  {
   "cell_type": "code",
   "execution_count": 56,
   "metadata": {},
   "outputs": [],
   "source": [
    "# change type population\n",
    "df['population'] = df['population'].astype('int32')"
   ]
  },
  {
   "attachments": {},
   "cell_type": "markdown",
   "metadata": {},
   "source": [
    "<p dir=rtl style=\"direction: rtl;text-align: right;line-height:200%;font-family:vazir;font-size:medium\">\n",
    "<font face=\"vazir\" size=3>\n",
    "در مراحل بعدی می‌خواهیم برخی مقادیر دیتافریم را تغییر دهیم و جهت داوری تغییرات صورت گرفته تاکنون نیاز است یک کپی از <code>df</code> داشته باشیم. بدین منظور از تابع  <code>copy</code> استفاده می‌کنیم.\n",
    "به طور کلی استفاده از مساوی برای دیتافریم‌ها در پانداز مانند نامپای عمل می‌کنند و تنها یک رفرنس جدید به همان دیتافریم اضافه می‌شود بنابراین تغییر دادن هر کدام از دیتافریم‌ها باعث تغییر دیگری نیز می‌شود.\n",
    "    استفاده از تابع <code>copy</code> این قابلیت را برای ما ایجاد می‌کند که یک کپی از دیتافریم اولیه دریافت کنیم و تغییر یکی تاثیری روی دیگری نداشته باشد.\n",
    "<br>\n",
    "</font>\n",
    "</p>"
   ]
  },
  {
   "cell_type": "code",
   "execution_count": 57,
   "metadata": {},
   "outputs": [],
   "source": [
    "first_df = df.copy()"
   ]
  },
  {
   "attachments": {},
   "cell_type": "markdown",
   "metadata": {},
   "source": [
    "<h2 align=right style=\"line-height:200%;font-family:vazir;color:#0099cc\">\n",
    "<font face=\"vazir\" color=\"#0099cc\">\n",
    "حذف داده‌های تکراری و گم‌شده\n",
    "</font>\n",
    "</h2>\n",
    "\n",
    "<p dir=rtl style=\"direction: rtl;text-align: justify;line-height:200%;font-family:vazir;font-size:medium\">\n",
    "<font face=\"vazir\" size=3>\n",
    "نخست ردیف‌های تکراری دیتافریم و سپس ردیف‌هایی که بیش از یک مورد (۲ مورد و بیش‌تر) از اطلاعات آن‌ها گم‌شده است را از دیتافریم حذف نمایید.\n",
    "</font>\n",
    "</p>"
   ]
  },
  {
   "cell_type": "code",
   "execution_count": 58,
   "metadata": {},
   "outputs": [],
   "source": [
    "# remove duplicated and missed values\n",
    "df = df.drop_duplicates()\n",
    "df = df.dropna(thresh=df.shape[1] - 1)"
   ]
  },
  {
   "attachments": {},
   "cell_type": "markdown",
   "metadata": {},
   "source": [
    "<h2 align=right style=\"line-height:200%;font-family:vazir;color:#0099cc\">\n",
    "<font face=\"vazir\" color=\"#0099cc\">\n",
    "پر کردن داده‌ها گم‌شده\n",
    "</font>\n",
    "</h2>\n",
    "\n",
    "<p dir=rtl style=\"direction: rtl;text-align: justify;line-height:200%;font-family:vazir;font-size:medium\">\n",
    "<font face=\"vazir\" size=3>\n",
    "در ادامه این تمرین قصد داریم محاسباتی را بر روی ستون‌های \n",
    "<code>lat</code> و \n",
    "<code>lng</code>\n",
    " انجام دهیم، اما در چند ردیف از دیتافریم مقادیر یکی از این دو ستون ثبت نشده است؛ از این رو در این بخش قصد داریم مقادیر مفقوده در این دو ستون را با میانگین همان مولفه در همان کشور پر نماییم. به عنوان مثال چنانچه مقدار <code>lat</code> \n",
    " برای مشهد ثبت نشده باشد، میانگین <code>lat</code>  در دیگر شهر‌های ایران را محاسبه کرده و به عنوان <code>lat</code>  برای شهر مشهد در نظر می‌گیریم.\n",
    "</font>\n",
    "</p>"
   ]
  },
  {
   "cell_type": "code",
   "execution_count": 59,
   "metadata": {},
   "outputs": [],
   "source": [
    "mean_df = df.groupby('country')[['lat', 'lng']].transform('mean')\n",
    "df[['lat', 'lng']] = df[['lat', 'lng']].fillna(mean_df)"
   ]
  },
  {
   "attachments": {},
   "cell_type": "markdown",
   "metadata": {},
   "source": [
    "<h2 align=right style=\"line-height:200%;font-family:vazir;color:#0099cc\">\n",
    "<font face=\"vazir\" color=\"#0099cc\">\n",
    "محاسبه فاصله از تهران\n",
    "</font>\n",
    "</h2>\n",
    "\n",
    "<p dir=rtl style=\"direction: rtl;text-align: justify;line-height:200%;font-family:vazir;font-size:medium\">\n",
    "<font face=\"vazir\" size=3>\n",
    "در این بخش قصد داریم فاصله هر یک از شهر‌ها را با تهران حساب کنیم. بدین منظور از فرمول هاورسین استفاده خواهیم کرد. این فرمول بر اساس طول جغرافیایی (Logitude) و عرض جغرافیایی (Latitude)  دو نقطه در سطح یک کره، فاصله آنها را حساب می‌کند.\n",
    "فرمول محاسبه فاصله هاورسین در ادامه آورده شده است. برای اطلاعات بیشتر در رابطه با آن می‌توانید به این\n",
    "<a href=\"https://www.movable-type.co.uk/scripts/latlong.html\"> لینک</a>\n",
    " مراجعه کنید. \n",
    "در این بخش از شما خواسته شده است، نخست با توجه به فرمول هاورسین و مقادیر طول و عرض جغرافیایی تهران که از دیتافریم استخراج می‌کنید تابع  <code>haversin_from_teh</code>  را تکمیل کرده تا فاصله هر شهر از تهران را محاسبه کند و سپس با استفاده از این تابع، \n",
    "فاصله هر شهر از تهران را در ستون\n",
    "<code>distance_from_tehran</code>\n",
    "در دیتافریم درج نمایید.\n",
    "</font>\n",
    "</p>"
   ]
  },
  {
   "attachments": {},
   "cell_type": "markdown",
   "metadata": {},
   "source": [
    "<p dir=rtl style=\"direction: rtl;text-align: justify;line-height:200%;font-family:vazir;font-size:medium\">\n",
    "<font face=\"vazir\" size=3>\n",
    "فرمول هاورسین:\n",
    "</font>\n",
    "</p>\n",
    "\n",
    "\n",
    "\n",
    "$\\lambda_1$, $\\lambda_2$ : longitudes of the two points in radians (lng)\n",
    "\n",
    "$\\varphi_1$, $\\varphi_2$ : the latitudes of the two points in radians (lat)\n",
    "\n",
    "$d$ : distance between two cities\n",
    "\n",
    "\n",
    "$$\n",
    "r = 6371\n",
    "$$\n",
    "$$\n",
    "a = \\sin^2\\left(\\frac{\\varphi_2-\\varphi_1}{2}\\right) + \\cos(\\varphi_1)\\cos(\\varphi_2)\\sin^2\\left(\\frac{\\lambda_2-\\lambda_1}{2}\\right)\n",
    "$$\n",
    "$$\n",
    "d = 2r \\operatorname{atan2}\\left(\\sqrt{a}, \\sqrt{1 -a}\\right)\n",
    "$$\n",
    "\n",
    "<p dir=rtl style=\"direction: rtl;text-align: justify;line-height:200%;font-family:vazir;font-size:medium\">\n",
    "<font face=\"vazir\" size=3>\n",
    "<code>تذکر:</code>\n",
    "دقت کنید که مقادیر طول و عرض جغرافیایی ثبت شده در دیتافریم به درجه می‌باشد و برای استفاده از رابطه فوق باید به رادیان تبدیل گردد. همچنین توجه کنید ملاک ارزیابی پاسخ شما فرمول فوق و طول و عرض جغرافیایی تهران که در همین دیتافریم درج شده، می‌باشد.\n",
    "</font>\n",
    "</p>\n"
   ]
  },
  {
   "cell_type": "code",
   "execution_count": 60,
   "metadata": {},
   "outputs": [],
   "source": [
    "def haversine_from_teh(lat, lng):\n",
    "    tehran_lat = df.loc[df['city'] == 'Tehran', 'lat'].values[0]\n",
    "    tehran_lng = df.loc[df['city'] == 'Tehran', 'lng'].values[0]\n",
    "\n",
    "    # Convert latitude and longitude values to radians\n",
    "    lat_rad = math.radians(lat)\n",
    "    lng_rad = math.radians(lng)\n",
    "    tehran_lat_rad = math.radians(tehran_lat)\n",
    "    tehran_lng_rad = math.radians(tehran_lng)\n",
    "    \n",
    "    # Haversine formula\n",
    "    dlat = tehran_lat_rad - lat_rad\n",
    "    dlng = tehran_lng_rad - lng_rad\n",
    "    a = math.sin(dlat/2)**2 + math.cos(lat_rad) * math.cos(tehran_lat_rad) * math.sin(dlng/2)**2\n",
    "    r = 6371  # Radius of the Earth in kilometers\n",
    "    d = 2 * r * math.atan2(math.sqrt(a), math.sqrt(1-a))\n",
    "    \n",
    "    return d"
   ]
  },
  {
   "cell_type": "code",
   "execution_count": 61,
   "metadata": {},
   "outputs": [],
   "source": [
    "df['distance_from_tehran'] = df.apply(lambda row: haversine_from_teh(row['lat'], row['lng']), axis=1)"
   ]
  },
  {
   "attachments": {},
   "cell_type": "markdown",
   "metadata": {},
   "source": [
    "<h2 align=right style=\"line-height:200%;font-family:vazir;color:#0099cc\">\n",
    "<font face=\"vazir\" color=\"#0099cc\">\n",
    "مرتب‌سازی و دخیره دیتافریم\n",
    "</font>\n",
    "</h2>\n",
    "\n",
    "<p dir=rtl style=\"direction: rtl;text-align: justify;line-height:200%;font-family:vazir;font-size:medium\">\n",
    "<font face=\"vazir\" size=3>\n",
    "حال شهر‌ها را بر اساس حروف الفبا (به صورت صعودی) و سپس بر اساس مقدار ستون \n",
    "<code>lat</code>\n",
    "(به صورت نزولی)\n",
    " مرتب کرده و دیتافریم <code>df</code> را بدون نمایه‌هایش (index) درون فایلی به نام <code>distances.csv</code> ذخیره کنید. \n",
    "</font>\n",
    "</p>"
   ]
  },
  {
   "cell_type": "code",
   "execution_count": 62,
   "metadata": {},
   "outputs": [],
   "source": [
    "df = df.sort_values(by=['city', 'lat'], ascending=[True, False])\n",
    "\n",
    "df.to_csv('distances.csv', index=False)"
   ]
  },
  {
   "attachments": {},
   "cell_type": "markdown",
   "metadata": {},
   "source": [
    "\n",
    "<p dir=rtl style=\"direction: rtl;text-align: justify;line-height:200%;font-family:vazir;font-size:medium\">\n",
    "<font face=\"vazir\" size=3>\n",
    "عمل فوق را بر روی دیتافریم \n",
    "<code>first_df</code>\n",
    "نیز اجرا کنید و با نام \n",
    "<code>cities.csv</code>\n",
    "ذخیره کنید (مرتب‌سازی بر اساس نام شهر (به صورت صعودی) و سپس بر اساس مقدار ستون \n",
    "<code>lat</code>\n",
    "(به صورت نزولی) و ذخیره دیتافریم بدون نمایه).\n",
    "</font>\n",
    "</p>\n",
    "\n"
   ]
  },
  {
   "cell_type": "code",
   "execution_count": 63,
   "metadata": {},
   "outputs": [],
   "source": [
    "first_df= first_df.sort_values(by=['city', 'lat'], ascending=[True, False])\n",
    "\n",
    "first_df.to_csv('cities.csv', index=False)"
   ]
  },
  {
   "attachments": {},
   "cell_type": "markdown",
   "metadata": {},
   "source": [
    "<h2 align=right style=\"line-height:200%;font-family:vazir;color:#0099cc\">\n",
    "<font face=\"vazir\" color=\"#0099cc\">\n",
    "<b>سلول جواب‌ساز</b>\n",
    "</font>\n",
    "</h2>\n",
    "\n",
    "\n",
    "<p dir=rtl style=\"direction: rtl; text-align: justify; line-height:200%; font-family:vazir; font-size:medium\">\n",
    "<font face=\"vazir\" size=3>\n",
    "    برای ساخته‌شدن فایل <code>result.zip</code> سلول زیر را اجرا کنید. توجه داشته باشید که پیش از اجرای سلول زیر تغییرات اعمال شده در نت‌بوک را ذخیره کرده باشید (<code>ctrl+s</code>) تا در صورت نیاز به پشتیبانی امکان بررسی کد شما وجود داشته باشد.\n",
    "</font>\n",
    "</p>"
   ]
  },
  {
   "cell_type": "code",
   "execution_count": 64,
   "metadata": {},
   "outputs": [
    {
     "name": "stdout",
     "output_type": "stream",
     "text": [
      "File Paths:\n",
      "['populous_cities.ipynb', 'cities.csv', 'distances.csv']\n"
     ]
    }
   ],
   "source": [
    "import zlib\n",
    "import zipfile\n",
    "\n",
    "def compress(file_names):\n",
    "    print(\"File Paths:\")\n",
    "    print(file_names)\n",
    "    compression = zipfile.ZIP_DEFLATED\n",
    "    with zipfile.ZipFile(\"result.zip\", mode=\"w\") as zf:\n",
    "        for file_name in file_names:\n",
    "            zf.write('./' + file_name, file_name, compress_type=compression)\n",
    "\n",
    "file_names = ['populous_cities.ipynb' , 'cities.csv', 'distances.csv']\n",
    "\n",
    "compress(file_names)"
   ]
  }
 ],
 "metadata": {
  "kernelspec": {
   "display_name": "Python 3",
   "language": "python",
   "name": "python3"
  },
  "language_info": {
   "codemirror_mode": {
    "name": "ipython",
    "version": 3
   },
   "file_extension": ".py",
   "mimetype": "text/x-python",
   "name": "python",
   "nbconvert_exporter": "python",
   "pygments_lexer": "ipython3",
   "version": "3.10.5"
  },
  "orig_nbformat": 4
 },
 "nbformat": 4,
 "nbformat_minor": 2
}
