{
 "cells": [
  {
   "attachments": {},
   "cell_type": "markdown",
   "metadata": {},
   "source": [
    "<h1 align=center style=\"line-height:200%;font-family:vazir;color:#0099cc\">\n",
    "<font face=\"vazir\" color=\"#0099cc\">\n",
    "    کوویدکاوی\n",
    "</font>\n",
    "</h1>"
   ]
  },
  {
   "attachments": {},
   "cell_type": "markdown",
   "metadata": {},
   "source": [
    "<p dir=rtl style=\"direction: rtl; text-align: justify; line-height:200%; font-family:vazir; font-size:medium\">\n",
    "<font face=\"vazir\" size=3>\n",
    "در این تمرین می‌خواهیم داده‌های مربوط به وضعیت کووید-۱۹ در کشورهای مختلف جهان در یک روز از سال ۲۰۲۰ را کمی تحلیل کنیم و با پاسخ دادن به پرسش‌هایی از آن با کتابخانه‌ی <code>pandas</code> بیشتر کار کنیم.\n",
    "</font>\n",
    "</p>"
   ]
  },
  {
   "attachments": {},
   "cell_type": "markdown",
   "metadata": {},
   "source": [
    "<h2 align=right style=\"line-height:200%;font-family:vazir;color:#0099cc\">\n",
    "<font face=\"vazir\" color=\"#0099cc\">\n",
    "مجموعه‌داده‌\n",
    "</font>\n",
    "</h2>\n",
    "\n",
    "\n",
    "<p dir=rtl style=\"direction: rtl; text-align: justify; line-height:200%; font-family:vazir; font-size:medium\">\n",
    "<font face=\"vazir\" size=3>\n",
    "ابتدا داده‌ها را از فایل <code>covid19-11-10-2020.csv</code> بخوانید و در متغیر <code>covid_data</code> ذخیره کنید.\n",
    "</font>\n",
    "</p>"
   ]
  },
  {
   "cell_type": "code",
   "execution_count": 403,
   "metadata": {},
   "outputs": [],
   "source": [
    "import pandas as pd"
   ]
  },
  {
   "cell_type": "code",
   "execution_count": 404,
   "metadata": {},
   "outputs": [],
   "source": [
    "data = pd.read_csv(\"covid19-11-10-2020.csv\")\n",
    "df = pd.DataFrame(data)"
   ]
  },
  {
   "attachments": {},
   "cell_type": "markdown",
   "metadata": {},
   "source": [
    "<p dir=rtl style=\"direction: rtl; text-align: justify; line-height:200%; font-family:vazir; font-size:medium\">\n",
    "    <font face=\"vazir\" size=3>\n",
    "        همان‌طور که احتمالاً دیده‌اید، این مجموعه‌داده دارای ۱۴ ویژگی/ستون است که به معرفی برخی از آن‌ها که مهم‌ترند می‌پردازیم. البته که شما باید تشخیص بدهید که در هر سوال کدام موارد به کار می‌آیند.\n",
    "        <br>\n",
    "       - ستون  <code>Country_Region</code>: مشخص است که نام کشور یا منطقه را مشخص می‌کند. دقت کنید که شاید لازم باشد بررسی کنید که آیا تعداد سطرها با تعداد کشورها برابر است و به بیان دیگر به ازای هر منطقه یا کشور فقط یک سطر دیتا وجود دارد یا خیر.\n",
    "        <br>\n",
    "        - ستون‌های <code>Long</code> و <code>Lat</code>: طول و عرض جفرافیایی کشور/منطقه را بیان می‌کند.\n",
    "        <br>\n",
    "        - ستون <code>Confirmed</code>: تعداد موارد تاییدشده‌ی ابتلا به ویروس\n",
    "        <br>\n",
    "        - ستون <code>Deaths</code>: تعداد موارد فوت‌شده\n",
    "        <br>\n",
    "        - ستون <code>Recovered</code>: تعداد موارد بهبودیافته\n",
    "        <br>\n",
    "        - ستون <code>Active</code>: تعداد موارد فعال (که از تفاضل مجموع فوتی‌ها و بهبودیافتگان از موارد تایید شده نیز به‌دست می‌آید.)\n",
    "        <br>\n",
    "        - ستون <code>Incident_Rate</code>: بیانگر تعداد موارد در هر ۱۰۰۰۰۰ نفر است.\n",
    "</p>\n",
    "\n",
    "<p dir=rtl style=\"direction: rtl;text-align: justify;line-height:200%;font-family:vazir;font-size:medium\">\n",
    "<b style=\"color:red\">نکته‌:</b>\n",
    "در هر سوال که از شما خواسته‌شده پاسخ را در قالب فایلی با فرمت <code>csv</code> ذخیره کنید، لازم نیست نام ستون‌ها را ذخیره کنید (به بیان دیگر لازم نیست  <code>header</code> داشته باشند).\n",
    "</font>\n",
    "</p>"
   ]
  },
  {
   "attachments": {},
   "cell_type": "markdown",
   "metadata": {},
   "source": [
    "<h2 align=right style=\"line-height:200%;font-family:vazir;color:#0099cc\">\n",
    "<font face=\"vazir\" color=\"#0099cc\">\n",
    "قسمت اول‌\n",
    "</font>\n",
    "</h2>\n",
    "\n",
    "<p dir=rtl style=\"direction: rtl; text-align: justify; line-height:200%; font-family:vazir; font-size:medium\">\n",
    "<font face=\"vazir\" size=3>\n",
    "     در ابتدا می‌خواهیم ببینیم ۱۰ کشور با بیشترین تعداد موارد  کدام‌اند. برای این کار می‌توانیم از\n",
    "ستون  <code>Incident_Rate</code> استفاده کنیم. البته برای این‌که به‌نوعی مجموع تقریبی موارد را از این ستون محاسبه کنیم می‌توانیم از متد <code>apply</code>  استفاده کنیم و ستونی جدید به نام <code>Total_Cases</code> اضافه کنیم که از حاصل ضرب ۱۰۰۰۰۰ در مقادیر ستون <code>Incident_Rate</code> توسط تابع <code>apply</code> به‌دست می‌آیند.\n",
    "<br>\n",
    "پاسخ شما باید دارای ۱۰ ردیف و ۲ ستون باشد که نام کشور/منطقه و <code>Total_Cases</code> را شامل می‌شود و آن را در فایلی به نام <code>top10cases.csv</code> ذخیره کنید. \n",
    "</font>\n",
    "</p>"
   ]
  },
  {
   "cell_type": "code",
   "execution_count": 405,
   "metadata": {},
   "outputs": [],
   "source": [
    "part1 = df.copy()\n",
    "part1['Total_Cases'] = part1['Incident_Rate'] * 100000\n",
    "\n",
    "grouped_data = part1.groupby('Country_Region')['Total_Cases'].sum().reset_index()\n",
    "\n",
    "sorted_data = grouped_data.sort_values(\"Total_Cases\", ascending=False)\n",
    "\n",
    "top_10_cases = sorted_data.head(10)[[\"Country_Region\", \"Total_Cases\"]]\n",
    "\n",
    "top_10_cases.to_csv(\"top10cases.csv\", index=True, header=False)"
   ]
  },
  {
   "attachments": {},
   "cell_type": "markdown",
   "metadata": {},
   "source": [
    "<h2 align=right style=\"line-height:200%;font-family:vazir;color:#0099cc\">\n",
    "<font face=\"vazir\" color=\"#0099cc\">\n",
    "قسمت دوم\n",
    "</font>\n",
    "</h2>\n",
    "\n",
    "<p dir=rtl style=\"direction: rtl; text-align: justify; line-height:200%; font-family:vazir; font-size:medium\">\n",
    "<font face=\"vazir\" size=3>\n",
    "در ادامه می‌خواهیم ببینیم چه کشورهایی هیچ مورد بهبودیافته‌ای در این روز گزارش نکرده‌اند.\n",
    "ابتدا ردیف‌هایی که مقدار هر سه ستون <code>Confirmed</code>، <code>Deaths</code> و <code>Recovered</code> آن‌ها صفر است را از دیتافریم اصلی حذف کنید. سپس تنها مواردی که هیچ مورد بهبودیافته‌ای نداشته‌اند را نگه داشته و\n",
    "پاسخ را، به ترتیب نزولی موارد تایید شده‌ی ابتلا، در فایلی به نام <code>norecovered.csv</code> ذخیره کنید.\n",
    "<br>\n",
    "توجه داشته باشید که فایل شما باید شامل ۴ ستون باشد که به ترتیب نام کشور/منطقه، تعداد موارد تایید شده، موارد فوتی و موارد بهبود یافته باشد.\n",
    "</font>\n",
    "</p>"
   ]
  },
  {
   "cell_type": "code",
   "execution_count": 406,
   "metadata": {},
   "outputs": [
    {
     "name": "stderr",
     "output_type": "stream",
     "text": [
      "C:\\Users\\Pooriya\\AppData\\Local\\Temp\\ipykernel_25920\\3818416855.py:6: FutureWarning: The default value of numeric_only in DataFrameGroupBy.sum is deprecated. In a future version, numeric_only will default to False. Either specify numeric_only or select only columns which should be valid for the function.\n",
      "  grouped_df = part2.groupby('Country_Region').sum().reset_index()\n"
     ]
    }
   ],
   "source": [
    "part2 = df.copy()\n",
    "mask = (part2['Confirmed'] == 0) & (part2['Recovered'] == 0) & (part2['Deaths'] == 0)\n",
    "\n",
    "part2 = part2.drop(df[mask].index)\n",
    "\n",
    "grouped_df = part2.groupby('Country_Region').sum().reset_index()\n",
    "\n",
    "copy_df = grouped_df[grouped_df['Recovered'] == 0]\n",
    "\n",
    "sorted_data = copy_df.sort_values('Confirmed', ascending=False)\n",
    "\n",
    "sorted_data.to_csv('norecovered.csv', index=True, columns=['Country_Region', 'Confirmed', 'Deaths', 'Recovered'], header=False)"
   ]
  },
  {
   "attachments": {},
   "cell_type": "markdown",
   "metadata": {},
   "source": [
    "<h2 align=right style=\"line-height:200%;font-family:vazir;color:#0099cc\">\n",
    "<font face=\"vazir\" color=\"#0099cc\">\n",
    "قسمت سوم\n",
    "</font>\n",
    "</h2>\n",
    "\n",
    "<p dir=rtl style=\"direction: rtl; text-align: justify; line-height:200%; font-family:vazir; font-size:medium\">\n",
    "<font face=\"vazir\" size=3>\n",
    "اکنون می‌خواهیم اوضاع سایر کشورها را با کشور خودمان مقایسه‌ای کنیم! از این روی می‌خواهیم ببینیم کدام کشورها با وجود این‌که مبتلایان بیشتری از ما داشته‌اند، مرگ و میر کمتری ثبت کرده‌اند.\n",
    "<br>\n",
    "پاسخ را در فایلی به نام <code> vsiran.csv </code> ذخیره کنید. فایل پاسخ باید حاوی ۴ ستون باشد که نام کشور/منطقه، موارد تایید شده، موارد فوت‌شده و موارد بهبودیافته را به‌صورت نزولی بر اساس تعداد موارد تایید شده در بر داشته باشد.\n",
    "</font>\n",
    "</p>"
   ]
  },
  {
   "cell_type": "code",
   "execution_count": 407,
   "metadata": {},
   "outputs": [
    {
     "name": "stderr",
     "output_type": "stream",
     "text": [
      "C:\\Users\\Pooriya\\AppData\\Local\\Temp\\ipykernel_25920\\305250345.py:1: FutureWarning: The default value of numeric_only in DataFrameGroupBy.sum is deprecated. In a future version, numeric_only will default to False. Either specify numeric_only or select only columns which should be valid for the function.\n",
      "  grouped_df2 = df.groupby('Country_Region').sum().reset_index()\n"
     ]
    }
   ],
   "source": [
    "grouped_df2 = df.groupby('Country_Region').sum().reset_index()\n",
    "\n",
    "iran_total_cases = grouped_df2.loc[grouped_df2['Country_Region'] == 'Iran', 'Confirmed'].values[0]\n",
    "\n",
    "iran_deaths = grouped_df2.loc[grouped_df2['Country_Region'] == 'Iran', 'Deaths'].values[0]\n",
    "\n",
    "condition_mask = (grouped_df2['Confirmed'] > iran_total_cases) & (grouped_df2['Deaths'] < iran_deaths)\n",
    "\n",
    "result_countries = grouped_df2.loc[condition_mask, ['Country_Region', 'Confirmed', 'Deaths', 'Recovered']]\n",
    "\n",
    "result_countries = result_countries.sort_values(by='Confirmed', ascending=False)\n",
    "\n",
    "result_countries.to_csv('vsiran.csv', index=True, columns=['Country_Region', 'Confirmed', 'Deaths', 'Recovered'], header=False)"
   ]
  },
  {
   "attachments": {},
   "cell_type": "markdown",
   "metadata": {},
   "source": [
    "<h2 align=right style=\"line-height:200%;font-family:vazir;color:#0099cc\">\n",
    "<font face=\"vazir\" color=\"#0099cc\">\n",
    "قسمت چهارم\n",
    "</font>\n",
    "</h2>\n",
    "\n",
    "\n",
    "<p dir=rtl style=\"direction: rtl; text-align: justify; line-height:200%; font-family:vazir; font-size:medium\">\n",
    "<font face=\"vazir\" size=3>\n",
    "در ادامه می‌خواهیم ادعای سخنگوی وزارت بهداشت کشوری را ارزیابی کنیم که ادعا می‌کند کشورش با توجه به آمار فوتی‌هایشان در این روز، جزو ۲۰ درصد برتر جهان است (هنوز در آن زمان عبارتی مثل «کشورهای برتر یک درصد جهان» کشف نشده بود :) ).\n",
    "<br>\n",
    "ما تعداد مرگ‌های گزارش‌شده را به تنهایی کافی نمی‌دانیم و فرض کنید برای راستی‌آزمایی این ادعا می‌خواهیم از شاخص ساده‌ای چون <b style=\"color:#0099cc\">نسبت تعداد متوفیان به مبتلایان</b> استفاده کنیم. البته برای اینکه اینقدر هم دیگر ساده نباشد (!)، می‌خواهیم کشورهایی که مبتلایان تایید شده‌ی کمی در این روز داشته‌اند را در نظر نگیریم و برای این کار ۲۰ درصد کشورهایی که کمترین مبتلایان را داشته‌اند را نیز کنار می‌گذاریم و سپس شاخص مربوطه را برای کشورهای باقی‌مانده لحاظ می‌کنیم.\n",
    "<br>\n",
    "مقدار شاخص را در ستونی به نام <code>death_ratio</code> ذخیره کرده و\n",
    "فهرست ۲۰ درصد برتر را به همراه مقدار شاخص ذکر شده در فایلی به نام \n",
    "    <code>20percent.csv</code> ذخیره کنید.\n",
    "\n",
    "</font>\n",
    "</p>\n",
    "\n",
    "<p dir=rtl style=\"direction: rtl;text-align: justify;line-height:200%;font-family:vazir;font-size:medium\">\n",
    "<b style=\"color:orange\">توجه:</b>\n",
    "آن دسته از ردیف‌هایی که مقدار ستون <code>Confirmed</code> آن‌ها برابر صفر است را در نظر نگرفته و حذف کنید.\n",
    "</font>\n",
    "</p>\n",
    "\n",
    "<p dir=rtl style=\"direction: rtl;text-align: justify;line-height:200%;font-family:vazir;font-size:medium\">\n",
    "<b style=\"color:green\">راهنمایی:</b>\n",
    "دیتافریم حاصل شامل ۳۰ ردیف خواهد بود.\n",
    "</font>\n",
    "</p>"
   ]
  },
  {
   "cell_type": "code",
   "execution_count": 408,
   "metadata": {},
   "outputs": [
    {
     "name": "stderr",
     "output_type": "stream",
     "text": [
      "C:\\Users\\Pooriya\\AppData\\Local\\Temp\\ipykernel_25920\\605611774.py:3: FutureWarning: The default value of numeric_only in DataFrameGroupBy.sum is deprecated. In a future version, numeric_only will default to False. Either specify numeric_only or select only columns which should be valid for the function.\n",
      "  part3 = part3.groupby('Country_Region').sum().reset_index()\n",
      "C:\\Users\\Pooriya\\AppData\\Local\\Temp\\ipykernel_25920\\605611774.py:13: SettingWithCopyWarning: \n",
      "A value is trying to be set on a copy of a slice from a DataFrame.\n",
      "Try using .loc[row_indexer,col_indexer] = value instead\n",
      "\n",
      "See the caveats in the documentation: https://pandas.pydata.org/pandas-docs/stable/user_guide/indexing.html#returning-a-view-versus-a-copy\n",
      "  result_data['death_ratio'] = result_data['Deaths'] / result_data['Confirmed']\n"
     ]
    }
   ],
   "source": [
    "part3 = df.copy()\n",
    "\n",
    "part3 = part3.groupby('Country_Region').sum().reset_index()\n",
    "\n",
    "part3 = part3[part3['Confirmed'] != 0]\n",
    "\n",
    "sorted_data = part3.sort_values(by='Confirmed')\n",
    "\n",
    "countries_to_drop = int(len(sorted_data) * 0.2)\n",
    "\n",
    "result_data = sorted_data.iloc[countries_to_drop:]\n",
    "\n",
    "result_data['death_ratio'] = result_data['Deaths'] / result_data['Confirmed']\n",
    "\n",
    "result_data = result_data.sort_values(by='death_ratio')\n",
    "\n",
    "top20 = int(len(result_data) * 0.2)\n",
    "\n",
    "ans = result_data.head(top20)\n",
    "\n",
    "ans.to_csv('20percent.csv', index=True, columns=['Country_Region', 'death_ratio'], header=False)"
   ]
  },
  {
   "attachments": {},
   "cell_type": "markdown",
   "metadata": {},
   "source": [
    "<h2 align=right style=\"line-height:200%;font-family:vazir;color:#0099cc\">\n",
    "<font face=\"vazir\" color=\"#0099cc\">\n",
    "<b>سلول جواب‌ساز</b>\n",
    "</font>\n",
    "</h2>\n",
    "\n",
    "<p dir=rtl style=\"direction: rtl; text-align: justify; line-height:200%; font-family:vazir; font-size:medium\">\n",
    "<font face=\"vazir\" size=3>\n",
    "    برای ساخته‌شدن فایل <code>result.zip</code> سلول زیر را اجرا کنید. توجه داشته باشید که پیش از اجرای سلول زیر تغییرات اعمال شده در نت‌بوک را ذخیره کرده باشید (<code>ctrl+s</code>) تا در صورت نیاز به راهنمایی امکان بررسی کد شما وجود داشته باشد.\n",
    "</font>\n",
    "</p>"
   ]
  },
  {
   "cell_type": "code",
   "execution_count": 409,
   "metadata": {},
   "outputs": [
    {
     "name": "stdout",
     "output_type": "stream",
     "text": [
      "File Paths:\n",
      "['top10cases.csv', 'norecovered.csv', 'vsiran.csv', '20percent.csv', 'covid19.ipynb']\n"
     ]
    }
   ],
   "source": [
    "import zlib\n",
    "import zipfile\n",
    "\n",
    "def compress(file_names):\n",
    "    print(\"File Paths:\")\n",
    "    print(file_names)\n",
    "    compression = zipfile.ZIP_DEFLATED\n",
    "    with zipfile.ZipFile(\"result.zip\", mode=\"w\") as zf:\n",
    "        for file_name in file_names:\n",
    "            zf.write('./' + file_name, file_name, compress_type=compression)\n",
    "\n",
    "file_names = [\"top10cases.csv\", \"norecovered.csv\", \"vsiran.csv\", \"20percent.csv\", \"covid19.ipynb\"]\n",
    "compress(file_names)"
   ]
  }
 ],
 "metadata": {
  "kernelspec": {
   "display_name": "Python 3 (ipykernel)",
   "language": "python",
   "name": "python3"
  },
  "language_info": {
   "codemirror_mode": {
    "name": "ipython",
    "version": 3
   },
   "file_extension": ".py",
   "mimetype": "text/x-python",
   "name": "python",
   "nbconvert_exporter": "python",
   "pygments_lexer": "ipython3",
   "version": "3.10.5"
  },
  "latex_envs": {
   "LaTeX_envs_menu_present": true,
   "autoclose": false,
   "autocomplete": true,
   "bibliofile": "biblio.bib",
   "cite_by": "apalike",
   "current_citInitial": 1,
   "eqLabelWithNumbers": true,
   "eqNumInitial": 1,
   "hotkeys": {
    "equation": "Ctrl-E",
    "itemize": "Ctrl-I"
   },
   "labels_anchors": false,
   "latex_user_defs": false,
   "report_style_numbering": false,
   "user_envs_cfg": false
  },
  "toc": {
   "base_numbering": 1,
   "nav_menu": {},
   "number_sections": true,
   "sideBar": true,
   "skip_h1_title": false,
   "title_cell": "Table of Contents",
   "title_sidebar": "Contents",
   "toc_cell": false,
   "toc_position": {},
   "toc_section_display": true,
   "toc_window_display": false
  },
  "varInspector": {
   "cols": {
    "lenName": 16,
    "lenType": 16,
    "lenVar": 40
   },
   "kernels_config": {
    "python": {
     "delete_cmd_postfix": "",
     "delete_cmd_prefix": "del ",
     "library": "var_list.py",
     "varRefreshCmd": "print(var_dic_list())"
    },
    "r": {
     "delete_cmd_postfix": ") ",
     "delete_cmd_prefix": "rm(",
     "library": "var_list.r",
     "varRefreshCmd": "cat(var_dic_list()) "
    }
   },
   "types_to_exclude": [
    "module",
    "function",
    "builtin_function_or_method",
    "instance",
    "_Feature"
   ],
   "window_display": false
  },
  "vscode": {
   "interpreter": {
    "hash": "6a29b8f2e1e8b11f80c3820468461bcdbea6564508a235f61a46eeb59d48b308"
   }
  }
 },
 "nbformat": 4,
 "nbformat_minor": 4
}
