{
 "cells": [
  {
   "attachments": {},
   "cell_type": "markdown",
   "metadata": {},
   "source": [
    "<h1 align=center style=\"line-height:200%;font-family:vazir;color:#0099cc\">\n",
    "<font face=\"vazir\" color=\"#0099cc\">\n",
    "دست‌گرمی\n",
    "</font>\n",
    "</h1>\n",
    "\n",
    "<p dir=rtl style=\"direction: rtl;text-align: justify;line-height:200%;font-family:vazir;font-size:medium\">\n",
    "<font face=\"vazir\" size=3>\n",
    "در این تمرین می‌خواهیم مقدمات کار با <code>numpy</code> را با هم تمرین کنیم.\n",
    "</font>\n",
    "</p>"
   ]
  },
  {
   "attachments": {},
   "cell_type": "markdown",
   "metadata": {},
   "source": [
    "<h2 align=right style=\"line-height:200%;font-family:vazir;color:#0099cc\">\n",
    "<font face=\"vazir\" color=\"#0099cc\">\n",
    "سوال ۱\n",
    "</font>\n",
    "</h2>\n",
    "\n",
    "<p dir=rtl style=\"direction: rtl;text-align: justify;line-height:200%;font-family:vazir;font-size:medium\">\n",
    "<font face=\"vazir\" size=3>\n",
    "در سوال ۱ قصد داریم نسبت به سرعت بالای آرایه‌های \n",
    "<code>numpy</code>\n",
    " در مقایسه با لیست‌های پایتون در محاسبات عددی شهود بهتری پیدا کنیم.\n",
    " بدین منظور از شما می‌خواهیم به دو روش تابع محاسبه نرم اقلیدسی (نرم ۲) را بنویسید. این تابع  لیستی از اعداد را (که نمایانگر یک بردار است) به عنوان ورودی گرفته و نرم \n",
    " اقلیدسی آن را به خروجی می‌دهد. فرمول محاسبه نرم اقلیدسی بردار\n",
    " <code>X</code>\n",
    "در ادامه آمده است.\n",
    "</font>\n",
    "</p>\n",
    "\n",
    "$$\n",
    "\\|\\mathbf{X}\\|_2 = \\sqrt{\\sum_{i=1}^n x_i^2}\n",
    "$$\n",
    "\n",
    "\n",
    "<p dir=rtl style=\"direction: rtl;text-align: justify;line-height:200%;font-family:vazir;font-size:medium\">\n",
    "<font face=\"vazir\" size=3>\n",
    "<b style=\"color:#0099cc\">توضیح فرمول:</b>\n",
    "نخست هر عنصر لیست را به توان ۲ رسانده، سپس این مقادیر را با همدیگر جمع کرده و نهایتاً از آن‌ جذر بگیرید.\n",
    "</p>\n",
    "\n",
    "\n",
    "<p dir=rtl style=\"direction: rtl;text-align: justify;line-height:200%;font-family:vazir;font-size:medium\">\n",
    "<font face=\"vazir\" size=3>\n",
    " در حالت اول تابعی تحت عنوان <code>euclidean_norm_list</code> بنویسید. این تابع را بدون استفاده از پکیج </font>\n",
    "<code>numpy</code>\n",
    "و تنها با توابع و متد‌های لیست پایتون پیاده‌سازی کنید. می‌توانید در صورت نیاز از ماژول <code>math</code>\n",
    "استفاده کنید.\n",
    "</p>"
   ]
  },
  {
   "cell_type": "code",
   "execution_count": 31,
   "metadata": {},
   "outputs": [],
   "source": [
    "def euclidean_norm_list(my_list):\n",
    "    import math\n",
    "    squared_sum = 0\n",
    "    for x in my_list:\n",
    "        squared_sum += x**2\n",
    "    euclidean_norm = math.sqrt(squared_sum)\n",
    "    return euclidean_norm"
   ]
  },
  {
   "attachments": {},
   "cell_type": "markdown",
   "metadata": {},
   "source": [
    "\n",
    "<p dir=rtl style=\"direction: rtl;text-align: justify;line-height:200%;font-family:vazir;font-size:medium\">\n",
    "<font face=\"vazir\" size=3>\n",
    "اکنون تابعی با نام \n",
    "<code>euclidean_norm_np</code>\n",
    "بنویسید تا نرم اقلیدسی را با استفاده از پکیج <code>numpy</code>\n",
    "محاسبه کند.\n",
    "</p>"
   ]
  },
  {
   "cell_type": "code",
   "execution_count": 32,
   "metadata": {},
   "outputs": [],
   "source": [
    "def euclidean_norm_np(mylist):\n",
    "    import numpy as np\n",
    "    num_array = np.array(mylist)\n",
    "    norm = np.linalg.norm(num_array)\n",
    "    return norm"
   ]
  },
  {
   "attachments": {},
   "cell_type": "markdown",
   "metadata": {},
   "source": [
    "\n",
    "<p dir=rtl style=\"direction: rtl;text-align: justify;line-height:200%;font-family:vazir;font-size:medium\">\n",
    "<font face=\"vazir\" size=3>\n",
    "جهت مقایسه سرعت اجرای دو تابع، از دستور جادویی \n",
    "<code>timeit</code>    \n",
    " و برای ذخیره نتایج در متغیر‌های <code>a</code> و <code>b</code> از آرگومان \n",
    "<code dir=ltr>-o</code>\n",
    "استفاده خواهیم کرد. \n",
    "جهت کسب اطلاعات بیشتر درباره‌ی <i>دستورات جادویی (magic codes)</i> می‌توانید به این\n",
    "<a href=\"https://coderzcolumn.com/tutorials/python/list-of-useful-magic-commands-in-jupyter-notebook-lab\"> لینک</a>\n",
    "مراجعه کنید.\n",
    "لیست اعداد ورودی برای تست توابع و دستورات\n",
    "<code>timeit</code> \n",
    "در ادامه آمده است، تنها لازم است پس از تکمیل توابع فوق قطعه کد‌های زیر را اجرا نمایید تا مدت زمان اجرای هر تابع را در خروجی دریافت کنید. \n",
    "</p>"
   ]
  },
  {
   "cell_type": "code",
   "execution_count": 33,
   "metadata": {},
   "outputs": [],
   "source": [
    "input = list(range(1000000))"
   ]
  },
  {
   "cell_type": "code",
   "execution_count": 34,
   "metadata": {},
   "outputs": [
    {
     "name": "stdout",
     "output_type": "stream",
     "text": [
      "295 ms ± 6.79 ms per loop (mean ± std. dev. of 7 runs, 1 loop each)\n"
     ]
    }
   ],
   "source": [
    "a = %timeit -o euclidean_norm_list(input)"
   ]
  },
  {
   "cell_type": "code",
   "execution_count": 35,
   "metadata": {},
   "outputs": [
    {
     "name": "stdout",
     "output_type": "stream",
     "text": [
      "74.1 ms ± 1.76 ms per loop (mean ± std. dev. of 7 runs, 10 loops each)\n"
     ]
    }
   ],
   "source": [
    "b = %timeit -o euclidean_norm_np(input)"
   ]
  },
  {
   "attachments": {},
   "cell_type": "markdown",
   "metadata": {},
   "source": [
    "<p dir=rtl style=\"direction: rtl;text-align: justify;line-height:200%;font-family:vazir;font-size:medium\">\n",
    "<font face=\"vazir\" size=3>\n",
    "با استفاده از دستور جادویی <code>save</code> کد تابع خود را در قالب فایل <code dir=ltr>.py</code> ذخیره کنید تا بتوانیم در سلول جواب‌ساز، آن را در فایل <code>result.zip</code> قرار دهیم.\n",
    "</font>\n",
    "</p>\n"
   ]
  },
  {
   "cell_type": "code",
   "execution_count": 36,
   "metadata": {},
   "outputs": [
    {
     "name": "stdout",
     "output_type": "stream",
     "text": [
      "The following commands were written to file `euclidean_norm_list.py`:\n",
      "def euclidean_norm_list(my_list):\n",
      "    import math\n",
      "    squared_sum = 0\n",
      "    for x in my_list:\n",
      "        squared_sum += x**2\n",
      "    euclidean_norm = math.sqrt(squared_sum)\n",
      "    return euclidean_norm\n",
      "\n",
      "The following commands were written to file `euclidean_norm_np.py`:\n",
      "def euclidean_norm_np(mylist):\n",
      "    import numpy as np\n",
      "    num_array = np.array(mylist)\n",
      "    norm = np.linalg.norm(num_array)\n",
      "    return norm\n",
      "\n"
     ]
    }
   ],
   "source": [
    "from inspect import getsource\n",
    "%save euclidean_norm_list getsource(euclidean_norm_list)\n",
    "%save euclidean_norm_np getsource(euclidean_norm_np)"
   ]
  },
  {
   "attachments": {},
   "cell_type": "markdown",
   "metadata": {},
   "source": [
    "<h2 align=right style=\"line-height:200%;font-family:vazir;color:#0099cc\">\n",
    "<font face=\"vazir\" color=\"#0099cc\">\n",
    "سوال ۲\n",
    "</font>\n",
    "</h2>\n",
    "\n",
    "<p dir=rtl style=\"direction: rtl;text-align: justify;line-height:200%;font-family:vazir;font-size:medium\">\n",
    "<font face=\"vazir\" size=3>\n",
    "در این بخش از شما می‌خواهیم تابعی به نام <code>custom_filter</code>\n",
    " با دو ورودی \n",
    "<code>arr</code>\n",
    "و\n",
    "<code>L</code>\n",
    "بنویسید که\n",
    "<code>arr</code>\n",
    "یک آرایه‌ی دو بعدی متشکل از آرایه‌های تک بعدی با طول \n",
    "<code>n</code>\n",
    "است و \n",
    "<code>L</code>\n",
    "لیستی به طول \n",
    "<code>n</code> باشد.\n",
    "عملکرد تابع \n",
    "<code>custom_filter</code>\n",
    "به این‌صورت است که نخست <code>L</code> را به انتهای آرایه <code>arr</code> اضافه‌ می‌کند (منظور <code>append</code> است)، سپس در آرایه‌ی دو بعدی جدید، هر ستونی (آرایه‌ی دوبعدی را همچون یک ماتریس در نظر بگیرید) را که شامل عددی بزرگتر مساوی ۱۰ یا کوچکتر مساوی ۱ است از آرایه حذف می‌کند و نهایتاً آرایه را به خروجی تابع می‌دهد. چنان‌چه آرایه‌ی خروجی تهی باشد به جای آن عبارت <code>Null</code> به صورت <code>string</code> در خروجی نمایش داده می‌شود. \n",
    "</font>\n",
    "</p>"
   ]
  },
  {
   "cell_type": "code",
   "execution_count": 37,
   "metadata": {},
   "outputs": [],
   "source": [
    "def custom_filter(arr, L):\n",
    "    import numpy as np\n",
    "    new_array = np.append(arr, [L], axis=0)\n",
    "    check = np.logical_or(np.any(new_array >= 10, axis=0), np.any(new_array <= 1, axis=0))\n",
    "    final_array = new_array[:, np.logical_not(check)]\n",
    "    if final_array.size == 0:\n",
    "        return \"Null\"\n",
    "    else:\n",
    "        return final_array"
   ]
  },
  {
   "attachments": {},
   "cell_type": "markdown",
   "metadata": {},
   "source": [
    "\n",
    "<p dir=rtl style=\"direction: rtl;text-align: justify;line-height:200%;font-family:vazir;font-size:medium\">\n",
    "<font face=\"vazir\" size=3>\n",
    "<b style=\"color:purple\">توجه:</b>\n",
    "نمونه‌هایی از ورودی و خروجی تابع به صورت کامنت در سلول زیر قرار داده شده است. \n",
    "</font>\n",
    "</p>"
   ]
  },
  {
   "cell_type": "code",
   "execution_count": 38,
   "metadata": {},
   "outputs": [],
   "source": [
    "###################################################################################\n",
    "#Ex1: custom_filter(np.array([[1, 2, 3], [4, 5, 6], [7, 8, 9]]),[8,9,10])\n",
    "# array([[2],\n",
    "#        [5],\n",
    "#        [8],\n",
    "#        [9]])\n",
    "\n",
    "#Ex2: custom_filter(np.array([[1, 2, 3], [4, 5, 6], [7, 8, 9]]),[7,8,9])\n",
    "# array([[2, 3],\n",
    "#        [5, 6],\n",
    "#        [8, 9],\n",
    "#        [8, 9]])\n",
    "\n",
    "#Ex3: custom_filter(np.array([[1, 2, 3], [4, 5, 6], [7, 8, 9]]),[9,10,11])\n",
    "#'Null'\n",
    "###################################################################################"
   ]
  },
  {
   "attachments": {},
   "cell_type": "markdown",
   "metadata": {},
   "source": [
    "<p dir=rtl style=\"direction: rtl;text-align: justify;line-height:200%;font-family:vazir;font-size:medium\">\n",
    "<font face=\"vazir\" size=3>\n",
    "با استفاده از دستور جادویی <code>save</code> کد تابع خود را در قالب فایل <code dir=ltr>.py</code> ذخیره کنید تا بتوانیم در سلول جواب‌ساز، آن را در فایل <code>result.zip</code> قرار دهیم.\n",
    "</font>\n",
    "</p>\n"
   ]
  },
  {
   "cell_type": "code",
   "execution_count": 39,
   "metadata": {},
   "outputs": [
    {
     "name": "stdout",
     "output_type": "stream",
     "text": [
      "The following commands were written to file `custom_filter.py`:\n",
      "def custom_filter(arr, L):\n",
      "    import numpy as np\n",
      "    new_array = np.append(arr, [L], axis=0)\n",
      "    check = np.logical_or(np.any(new_array >= 10, axis=0), np.any(new_array <= 1, axis=0))\n",
      "    final_array = new_array[:, np.logical_not(check)]\n",
      "    if final_array.size == 0:\n",
      "        return \"Null\"\n",
      "    else:\n",
      "        return final_array\n",
      "\n"
     ]
    }
   ],
   "source": [
    "from inspect import getsource\n",
    "%save custom_filter getsource(custom_filter)"
   ]
  },
  {
   "attachments": {},
   "cell_type": "markdown",
   "metadata": {},
   "source": [
    "<h2 align=right style=\"line-height:200%;font-family:vazir;color:#0099cc\">\n",
    "<font face=\"vazir\" color=\"#0099cc\">\n",
    "<b>سلول جواب‌ساز</b>\n",
    "</font>\n",
    "</h2>\n",
    "\n",
    "\n",
    "<p dir=rtl style=\"direction: rtl; text-align: justify; line-height:200%; font-family:vazir; font-size:medium\">\n",
    "<font face=\"vazir\" size=3>\n",
    "    برای ساخته‌شدن فایل <code>result.zip</code> سلول زیر را اجرا کنید. توجه داشته باشید که پیش از اجرای سلول زیر تغییرات اعمال شده در نت‌بوک را ذخیره کرده باشید (<code>ctrl+s</code>) تا در صورت نیاز به پشتیبانی امکان بررسی کد شما وجود داشته باشد.\n",
    "</font>\n",
    "</p>"
   ]
  },
  {
   "cell_type": "code",
   "execution_count": 40,
   "metadata": {},
   "outputs": [
    {
     "name": "stdout",
     "output_type": "stream",
     "text": [
      "File Paths:\n",
      "['euclidean_norm_list.py', 'euclidean_norm_np.py', 'custom_filter.py', 'a', 'b', 'warm_up.ipynb']\n"
     ]
    }
   ],
   "source": [
    "import zlib\n",
    "import zipfile\n",
    "import joblib\n",
    "\n",
    "joblib.dump(a,\"a\")\n",
    "joblib.dump(b,\"b\")\n",
    "\n",
    "def compress(file_names):\n",
    "    print(\"File Paths:\")\n",
    "    print(file_names)\n",
    "    compression = zipfile.ZIP_DEFLATED\n",
    "    with zipfile.ZipFile(\"result.zip\", mode=\"w\") as zf:\n",
    "        for file_name in file_names:\n",
    "            zf.write('./' + file_name, file_name, compress_type=compression)\n",
    "\n",
    "file_names = ['euclidean_norm_list.py', 'euclidean_norm_np.py',\n",
    "              'custom_filter.py', 'a', 'b', 'warm_up.ipynb']\n",
    "\n",
    "compress(file_names)"
   ]
  }
 ],
 "metadata": {
  "kernelspec": {
   "display_name": "Python 3",
   "language": "python",
   "name": "python3"
  },
  "language_info": {
   "codemirror_mode": {
    "name": "ipython",
    "version": 3
   },
   "file_extension": ".py",
   "mimetype": "text/x-python",
   "name": "python",
   "nbconvert_exporter": "python",
   "pygments_lexer": "ipython3",
   "version": "3.8.0"
  },
  "orig_nbformat": 4,
  "vscode": {
   "interpreter": {
    "hash": "44e7e1b8fa2096bd5707ed7fd18b1724a2db25f4c565a7673f8b6e7bfc49d25d"
   }
  }
 },
 "nbformat": 4,
 "nbformat_minor": 2
}
