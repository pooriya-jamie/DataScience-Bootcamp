{
 "cells": [
  {
   "cell_type": "markdown",
   "metadata": {},
   "source": [
    "<h1 align=center style=\"line-height:200%;font-family:vazir;color:#0099cc\">\n",
    "<font face=\"vazir\" color=\"#0099cc\">\n",
    "    !انتگرال دوست ماست\n",
    "</font>\n",
    "</h1>\n"
   ]
  },
  {
   "cell_type": "markdown",
   "metadata": {},
   "source": [
    "<p dir=rtl style=\"direction: rtl; text-align: justify; line-height:200%; font-family:vazir; font-size:medium\">\n",
    "<font face=\"vazir\" size=3>\n",
    "    در این سوال باید تابع <code>integral</code> را به گونه‌ای پیاده‌سازی کنید که انتگرال تابع داده شده را در یک بازه مشخص، به صورت تقریبی محاسبه کنید. \n",
    "</font>\n",
    "</p>\n"
   ]
  },
  {
   "cell_type": "markdown",
   "metadata": {},
   "source": [
    "<h2 align=right style=\"line-height:200%;font-family:vazir;color:#0099cc\">\n",
    "<font face=\"vazir\" color=\"#0099cc\">\n",
    "<b>ورودی</b>\n",
    "</font>\n",
    "</h2>"
   ]
  },
  {
   "cell_type": "markdown",
   "metadata": {},
   "source": [
    "<p dir=rtl style=\"direction: rtl; text-align: justify; line-height:200%; font-family:vazir; font-size:medium\">\n",
    "<font face=\"vazir\" size=3>\n",
    "    ورودی این سوال شامل یک تابع <code>f</code> و دو عدد حقیق <code>a</code> و <code>b</code> می‌باشد. \n",
    "</font>\n",
    "</p>\n"
   ]
  },
  {
   "cell_type": "markdown",
   "metadata": {},
   "source": [
    "<h2 align=right style=\"line-height:200%;font-family:vazir;color:#0099cc\">\n",
    "<font face=\"vazir\" color=\"#0099cc\">\n",
    "<b>خروجی</b>\n",
    "</font>\n",
    "</h2>"
   ]
  },
  {
   "cell_type": "markdown",
   "metadata": {},
   "source": [
    "<p dir=rtl style=\"direction: rtl; text-align: justify; line-height:200%; font-family:vazir; font-size:medium\">\n",
    "<font face=\"vazir\" size=3>\n",
    "     شما باید با استفاده از مباحث مربوط به آمار سعی کنید مقدار انتگرال تابع <code>f</code> را در بازه <code>(a,b)</code>، به صورت تقریبی بدست آورید.\n",
    "    <br>\n",
    "    <font face=\"vazir\" size=3 color=\"red\">\n",
    "    توجه۱:\n",
    "    </font>\n",
    "    مقدار خطای تقریب شما باید ۰.۰۵ باشد.\n",
    "    <br>\n",
    "    <font face=\"vazir\" size=3 color=\"red\">\n",
    "    توجه۲:\n",
    "    </font>\n",
    "    تضمین می‌شود تابع <code>f</code> در بازه <code>(a,b)</code> پیوسته باشد.\n",
    "    <br>\n",
    "    <font face=\"vazir\" size=3 color=\"red\">\n",
    "    توجه۳:\n",
    "    </font>\n",
    "    برای حل این سوال تنها می‌توانید از کتابخانه‌ی <code>numpy</code> استفاده نمایید.\n",
    "</font>\n",
    "</p>\n"
   ]
  },
  {
   "cell_type": "code",
   "execution_count": 7,
   "metadata": {
    "id": "vhD_TU8iGPqX"
   },
   "outputs": [],
   "source": [
    "import numpy as np\n",
    "\n",
    "def integral(f, a, b, error_tolerance=0.05):\n",
    "    n = 1  \n",
    "    integral_prev = 0\n",
    "    integral_curr = (f(a) + f(b)) * (b - a) / 2\n",
    "    \n",
    "    while abs(integral_curr - integral_prev) > error_tolerance:\n",
    "        n *= 2\n",
    "        dx = (b - a) / n\n",
    "        integral_prev = integral_curr\n",
    "        integral_curr = sum(f(a + i * dx) for i in range(1, n)) * dx + (f(a) + f(b)) * dx / 2\n",
    "    \n",
    "    return integral_curr\n",
    "\n",
    "def f(x):\n",
    "    return x**2\n"
   ]
  },
  {
   "cell_type": "markdown",
   "metadata": {},
   "source": [
    "<p dir=rtl style=\"direction: rtl; text-align: justify; line-height:200%; font-family:vazir; font-size:medium\">\n",
    "<font face=\"vazir\" size=3>\n",
    "    با اجرای سلول زیر می‌توانید تابعی که پیاده‌سازی کردید را بررسی کنید.\n",
    "    <br>\n",
    "    تابع <code>f</code>، همانی است و انتگرال آن در بازه <code>(0,2)</code> برابر ۲ می‌شود. پس خروجی شما باید در بازه <code>(1.95, 2.05)</code> قرار داشته باشد.\n",
    "</font>\n",
    "</p>"
   ]
  },
  {
   "cell_type": "code",
   "execution_count": 8,
   "metadata": {},
   "outputs": [
    {
     "name": "stdout",
     "output_type": "stream",
     "text": [
      "2.0\n"
     ]
    }
   ],
   "source": [
    "def f(x):\n",
    "    return x\n",
    "\n",
    "print(integral(f, 0, 2))"
   ]
  },
  {
   "cell_type": "markdown",
   "metadata": {
    "id": "RkBF2c_JL4ct"
   },
   "source": [
    "<h2 align=right style=\"line-height:200%;font-family:vazir;color:#0099cc\">\n",
    "<font face=\"vazir\" color=\"#0099cc\">\n",
    "<b>سلول جواب‌ساز</b>\n",
    "</font>\n",
    "</h2>\n",
    "\n",
    "\n",
    "<p dir=rtl style=\"direction: rtl; text-align: justify; line-height:200%; font-family:vazir; font-size:medium\">\n",
    "<font face=\"vazir\" size=3>\n",
    "    برای ساخته‌شدن فایل <code>result.zip</code> سلول زیر را اجرا کنید. توجه داشته باشید که پیش از اجرای سلول زیر تغییرات اعمال شده در نت‌بوک را ذخیره کرده باشید (<code>ctrl+s</code>) تا در صورت نیاز به پشتیبانی امکان بررسی کد شما وجود داشته باشد.\n",
    "</font>\n",
    "</p>\n"
   ]
  },
  {
   "cell_type": "code",
   "execution_count": 9,
   "metadata": {
    "colab": {
     "base_uri": "https://localhost:8080/",
     "height": 495
    },
    "id": "C6-yfYL7BWy1",
    "outputId": "00d7ee4c-c33b-4ffc-e050-b0c5029f588f"
   },
   "outputs": [
    {
     "name": "stdout",
     "output_type": "stream",
     "text": [
      "The following commands were written to file `integral.py`:\n",
      "def integral(f, a, b, error_tolerance=0.05):\n",
      "    n = 1  \n",
      "    integral_prev = 0\n",
      "    integral_curr = (f(a) + f(b)) * (b - a) / 2\n",
      "    \n",
      "    while abs(integral_curr - integral_prev) > error_tolerance:\n",
      "        n *= 2\n",
      "        dx = (b - a) / n\n",
      "        integral_prev = integral_curr\n",
      "        integral_curr = sum(f(a + i * dx) for i in range(1, n)) * dx + (f(a) + f(b)) * dx / 2\n",
      "    \n",
      "    return integral_curr\n",
      "\n",
      "File Paths:\n",
      "['integral.py', 'Integral.ipynb']\n"
     ]
    }
   ],
   "source": [
    "import zipfile\n",
    "from inspect import getsource\n",
    "\n",
    "%save integral getsource(integral)\n",
    "\n",
    "def compress(file_names):\n",
    "    print(\"File Paths:\")\n",
    "    print(file_names)\n",
    "    compression = zipfile.ZIP_DEFLATED\n",
    "    with zipfile.ZipFile(\"result.zip\", mode=\"w\") as zf:\n",
    "        for file_name in file_names:\n",
    "            zf.write('./' + file_name, file_name, compress_type=compression)\n",
    "\n",
    "file_names = [\"integral.py\", \"Integral.ipynb\"]\n",
    "compress(file_names)"
   ]
  }
 ],
 "metadata": {
  "colab": {
   "provenance": []
  },
  "kernelspec": {
   "display_name": "Python 3 (ipykernel)",
   "language": "python",
   "name": "python3"
  },
  "language_info": {
   "codemirror_mode": {
    "name": "ipython",
    "version": 3
   },
   "file_extension": ".py",
   "mimetype": "text/x-python",
   "name": "python",
   "nbconvert_exporter": "python",
   "pygments_lexer": "ipython3",
   "version": "3.10.5"
  }
 },
 "nbformat": 4,
 "nbformat_minor": 1
}
