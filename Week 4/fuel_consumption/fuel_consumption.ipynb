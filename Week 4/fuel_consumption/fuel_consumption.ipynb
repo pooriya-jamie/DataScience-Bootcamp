{
 "cells": [
  {
   "attachments": {},
   "cell_type": "markdown",
   "metadata": {},
   "source": [
    "<h1 align=center style=\"line-height:200%;font-family:vazir;color:#0099cc\">\n",
    "<font face=\"vazir\" color=\"#0099cc\">\n",
    "مصرف سوخت\n",
    "</font>\n",
    "</h1>"
   ]
  },
  {
   "attachments": {},
   "cell_type": "markdown",
   "metadata": {},
   "source": [
    "<p dir=rtl style=\"direction: rtl;text-align: justify;line-height:200%;font-family:vazir;font-size:medium\">\n",
    "<font face=\"vazir\" size=3>\n",
    "برای حل این تمرین، شما باید تابع \n",
    "<code>solve</code>\n",
    "را پیاده‌سازی کنید و در نهایت با اجرای سلول جواب‌ساز، کد خود را سیو کنید.\n",
    "<br>\n",
    "<span style=\"color:purple\"><b>توجه مهم:  </b></span>\n",
    "برای حل این تمرین، تنها از لایبرری‌هایی می‌توانید استفاده کنید که در تابع \n",
    "<code>import</code>\n",
    "شده‌اند. به هیچ وجه از لایبرری دیگری استفاده نکنید و ضمناً اسم لایبرری‌ها را نیز تغییر ندهید. در غیر این صورت، سیستم داوری نمی‌تواند کد شما را داوری کند.\n",
    "در این سوال نمی‌توانید از \n",
    "<code>f_oneway</code>\n",
    "استفاده کنید و پیاده‌سازی\n",
    "<code> ANOVA </code>\n",
    "بر‌عهده‌ی خود شماست.\n",
    "</font>\n",
    "</p>"
   ]
  },
  {
   "attachments": {},
   "cell_type": "markdown",
   "metadata": {},
   "source": [
    "<h2 align=right style=\"line-height:200%;font-family:vazir;color:#0099cc\">\n",
    "<font face=\"vazir\" color=\"#0099cc\">\n",
    "ورودی\n",
    "</font>\n",
    "</h2>"
   ]
  },
  {
   "attachments": {},
   "cell_type": "markdown",
   "metadata": {},
   "source": [
    "<p dir=rtl style=\"direction: rtl;text-align: justify;line-height:200%;font-family:vazir;font-size:medium\">\n",
    "<font face=\"vazir\" size=3>\n",
    "از هر کشور، چند ماشین انتخاب شده است و مصرف سوخت آن ماشین‌ها جمع‌آوری شده است. ورودی تابع شما آرایه‌ای از آرایه‌ها خواهد بود که هر آرایه‌ی درونی، حاوی اطلاعات یک کشور به‌خصوص است.\n",
    "</font>\n",
    "</p>"
   ]
  },
  {
   "attachments": {},
   "cell_type": "markdown",
   "metadata": {},
   "source": [
    "<h2 align=right style=\"line-height:200%;font-family:vazir;color:#0099cc\">\n",
    "<font face=\"vazir\" color=\"#0099cc\">\n",
    "خروجی\n",
    "</font>\n",
    "</h2>"
   ]
  },
  {
   "attachments": {},
   "cell_type": "markdown",
   "metadata": {},
   "source": [
    "<p dir=rtl style=\"direction: rtl;text-align: justify;line-height:200%;font-family:vazir;font-size:medium\">\n",
    "<font face=\"vazir\" size=3>\n",
    "خروجی شما ماکسیمم درصدی است که می‌توانید با آن ادعای شرکت فولکس واگن را رد کنید. دقت کنید که تفاوت پاسخ شما با جواب واقعی باید کمتر از \n",
    "<code>1e-2</code>\n",
    "باشد.\n",
    "</font>\n",
    "</p>"
   ]
  },
  {
   "cell_type": "code",
   "execution_count": 33,
   "metadata": {},
   "outputs": [],
   "source": [
    "def solve(arr):\n",
    "    import numpy as np\n",
    "    import scipy.stats as stats\n",
    "\n",
    "    means = [np.mean(country_data) for country_data in arr]\n",
    "\n",
    "    overall_mean = np.mean(np.concatenate(arr))\n",
    "\n",
    "    ssb = np.sum([(mean - overall_mean) ** 2 * len(country_data) for mean, country_data in zip(means, arr)])\n",
    "\n",
    "    ssw = np.sum([np.sum((data - np.mean(data)) ** 2) for data in arr])\n",
    "\n",
    "    num_countries = len(arr)\n",
    "    total_data = np.concatenate(arr)\n",
    "    total_data_count = len(total_data)\n",
    "\n",
    "    dfb = num_countries - 1\n",
    "    dfw = total_data_count - num_countries\n",
    "\n",
    "    f_statistic = (ssb / dfb) / (ssw / dfw)\n",
    "\n",
    "    p_value = 1 - stats.f.cdf(f_statistic, dfb, dfw)\n",
    "\n",
    "    alpha = 0.05  \n",
    "    if p_value < alpha:\n",
    "        reject_null = True \n",
    "    else:\n",
    "        reject_null = False \n",
    "\n",
    "    return (1 - p_value) * 100"
   ]
  },
  {
   "cell_type": "code",
   "execution_count": 37,
   "metadata": {},
   "outputs": [
    {
     "name": "stdout",
     "output_type": "stream",
     "text": [
      "Maximum percentage to reject the company's claim: 99.98932151505294\n"
     ]
    }
   ],
   "source": [
    "#optional \n",
    "import scipy.stats as stats\n",
    "\n",
    "def solve(arr):\n",
    "    f_statistic, p_value = stats.f_oneway(*arr)\n",
    "\n",
    "    alpha = 0.05\n",
    "\n",
    "    if p_value < alpha:\n",
    "        reject_null = True  \n",
    "    else:\n",
    "        reject_null = False \n",
    "\n",
    "    return (1 - p_value) * 100\n",
    "\n",
    "data_per_country = [\n",
    "    [8.5, 9.2, 8.7, 9.5, 10.1],\n",
    "    [7.8, 8.2, 8.0, 7.5, 8.3],\n",
    "    [9.6, 9.9, 10.3, 9.7, 9.5]\n",
    "]\n",
    "\n",
    "result = solve(data_per_country)\n",
    "print(\"Maximum percentage to reject the company's claim:\", result)\n"
   ]
  },
  {
   "cell_type": "code",
   "execution_count": 34,
   "metadata": {},
   "outputs": [
    {
     "name": "stdout",
     "output_type": "stream",
     "text": [
      "88.61520465416272\n"
     ]
    }
   ],
   "source": [
    "# solve([[85, 86, 88, 75, 78, 94, 98, 79, 71, 80],\n",
    "#        [91, 92, 93, 85, 87, 84, 82, 88, 95, 96],\n",
    "#        [79, 78, 88, 94, 92, 85, 83, 85, 82, 81]]) = 88.61\n",
    "print(solve([[85, 86, 88, 75, 78, 94, 98, 79, 71, 80],\n",
    "       [91, 92, 93, 85, 87, 84, 82, 88, 95, 96],\n",
    "       [79, 78, 88, 94, 92, 85, 83, 85, 82, 81]]))"
   ]
  },
  {
   "attachments": {},
   "cell_type": "markdown",
   "metadata": {},
   "source": [
    "<h2 align=right style=\"line-height:200%;font-family:vazir;color:#0099cc\">\n",
    "<font face=\"vazir\" color=\"#0099cc\">\n",
    "<b>سلول جواب‌ساز</b>\n",
    "</font>\n",
    "</h2>\n",
    "\n",
    "\n",
    "<p dir=rtl style=\"direction: rtl; text-align: justify; line-height:200%; font-family:vazir; font-size:medium\">\n",
    "<font face=\"vazir\" size=3>\n",
    "    برای ساخته‌شدن فایل <code>result.zip</code> سلول زیر را اجرا کنید. توجه داشته باشید که پیش از اجرای سلول زیر تغییرات اعمال شده در نت‌بوک را ذخیره کرده باشید (<code>ctrl+s</code>) تا در صورت نیاز به پشتیبانی امکان بررسی کد شما وجود داشته باشد.\n",
    "</font>\n",
    "</p>\n",
    "\n"
   ]
  },
  {
   "cell_type": "code",
   "execution_count": 35,
   "metadata": {},
   "outputs": [
    {
     "name": "stdout",
     "output_type": "stream",
     "text": [
      "The following commands were written to file `solve.py`:\n",
      "def solve(arr):\n",
      "    import numpy as np\n",
      "    import scipy.stats as stats\n",
      "\n",
      "    means = [np.mean(country_data) for country_data in arr]\n",
      "\n",
      "    overall_mean = np.mean(np.concatenate(arr))\n",
      "\n",
      "    ssb = np.sum([(mean - overall_mean) ** 2 * len(country_data) for mean, country_data in zip(means, arr)])\n",
      "\n",
      "    ssw = np.sum([np.sum((data - np.mean(data)) ** 2) for data in arr])\n",
      "\n",
      "    num_countries = len(arr)\n",
      "    total_data = np.concatenate(arr)\n",
      "    total_data_count = len(total_data)\n",
      "\n",
      "    dfb = num_countries - 1\n",
      "    dfw = total_data_count - num_countries\n",
      "\n",
      "    f_statistic = (ssb / dfb) / (ssw / dfw)\n",
      "\n",
      "    p_value = 1 - stats.f.cdf(f_statistic, dfb, dfw)\n",
      "\n",
      "    alpha = 0.05  \n",
      "    if p_value < alpha:\n",
      "        reject_null = True \n",
      "    else:\n",
      "        reject_null = False \n",
      "\n",
      "    return (1 - p_value) * 100\n",
      "\n",
      "File Paths:\n",
      "['solve.py', 'fuel_consumption.ipynb']\n"
     ]
    }
   ],
   "source": [
    "import zipfile \n",
    "from inspect import getsource\n",
    "\n",
    "%save solve getsource(solve)\n",
    "\n",
    "def compress(file_names):\n",
    "    print(\"File Paths:\")\n",
    "    print(file_names)\n",
    "    # Select the compression mode ZIP_DEFLATED for compression\n",
    "    # or zipfile.ZIP_STORED to just store the file\n",
    "    compression = zipfile.ZIP_DEFLATED\n",
    "    # create the zip file first parameter path/name, second mode\n",
    "    with zipfile.ZipFile(\"result.zip\", mode=\"w\") as zf:\n",
    "        for file_name in file_names:\n",
    "            # Add file to the zip file\n",
    "            # first parameter file to zip, second filename in zip\n",
    "            zf.write('./' + file_name, file_name, compress_type=compression)\n",
    "\n",
    "file_names = [\"solve.py\", \"fuel_consumption.ipynb\"]\n",
    "compress(file_names)"
   ]
  }
 ],
 "metadata": {
  "kernelspec": {
   "display_name": "qenv",
   "language": "python",
   "name": "python3"
  },
  "language_info": {
   "codemirror_mode": {
    "name": "ipython",
    "version": 3
   },
   "file_extension": ".py",
   "mimetype": "text/x-python",
   "name": "python",
   "nbconvert_exporter": "python",
   "pygments_lexer": "ipython3",
   "version": "3.10.5"
  },
  "orig_nbformat": 4
 },
 "nbformat": 4,
 "nbformat_minor": 2
}
